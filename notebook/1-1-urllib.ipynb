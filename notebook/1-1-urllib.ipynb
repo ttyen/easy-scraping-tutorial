{
 "cells": [
  {
   "cell_type": "markdown",
   "metadata": {},
   "source": [
    "# Simplest scraping\n",
    "**We gonna show how to open a very simple [webpage](https://github.com/ttyen/easy-scraping-tutorial/blob/master/notebook/example1.html), and read all the content in it.**"
   ]
  },
  {
   "cell_type": "code",
   "execution_count": 4,
   "metadata": {},
   "outputs": [
    {
     "name": "stdout",
     "output_type": "stream",
     "text": [
      "<html><head><title>example 1</title></head>\n",
      "<body>\n",
      "this is a valid page!\n",
      "<strong>12345</strong>\n",
      "  <p>Paragh</p>\n",
      "</body>\n",
      "</html>\n",
      "\n"
     ]
    }
   ],
   "source": [
    "from urllib.request import urlopen\n",
    "\n",
    "# if has Chinese, apply decode()\n",
    "html = urlopen(\"https://raw.githubusercontent.com/ttyen/easy-scraping-tutorial/master/notebook/example1.html\").read().decode('utf8)')\n",
    "print(html)\n"
   ]
  },
  {
   "cell_type": "markdown",
   "metadata": {},
   "source": [
    "**Then we select some text according to the tag arround text using regular expression**"
   ]
  },
  {
   "cell_type": "code",
   "execution_count": 5,
   "metadata": {},
   "outputs": [
    {
     "name": "stdout",
     "output_type": "stream",
     "text": [
      "\n",
      "Page title is:  example 1\n"
     ]
    }
   ],
   "source": [
    "import re\n",
    "res = re.findall(r\"<title>(.+?)</title>\", html)\n",
    "print(\"\\nPage title is: \", res[0])"
   ]
  },
  {
   "cell_type": "markdown",
   "metadata": {},
   "source": [
    "**Another example to select paragraph content out of html.**"
   ]
  },
  {
   "cell_type": "code",
   "execution_count": 6,
   "metadata": {},
   "outputs": [
    {
     "name": "stdout",
     "output_type": "stream",
     "text": [
      "\n",
      "Page paragraph is:  Paragh\n"
     ]
    }
   ],
   "source": [
    "res = re.findall(r\"<p>(.*?)</p>\", html, flags=re.DOTALL)    # re.DOTALL if multi line\n",
    "print(\"\\nPage paragraph is: \", res[0])"
   ]
  },
  {
   "cell_type": "markdown",
   "metadata": {},
   "source": [
    "**And select links using regex**"
   ]
  },
  {
   "cell_type": "code",
   "execution_count": 7,
   "metadata": {},
   "outputs": [
    {
     "name": "stdout",
     "output_type": "stream",
     "text": [
      "\n",
      "All links:  []\n"
     ]
    }
   ],
   "source": [
    "res = re.findall(r'href=\"(.*?)\"', html)\n",
    "print(\"\\nAll links: \", res)"
   ]
  },
  {
   "cell_type": "code",
   "execution_count": null,
   "metadata": {},
   "outputs": [],
   "source": []
  }
 ],
 "metadata": {
  "kernelspec": {
   "display_name": "Python 3",
   "language": "python",
   "name": "python3"
  },
  "language_info": {
   "codemirror_mode": {
    "name": "ipython",
    "version": 3
   },
   "file_extension": ".py",
   "mimetype": "text/x-python",
   "name": "python",
   "nbconvert_exporter": "python",
   "pygments_lexer": "ipython3",
   "version": "3.6.4"
  }
 },
 "nbformat": 4,
 "nbformat_minor": 1
}
