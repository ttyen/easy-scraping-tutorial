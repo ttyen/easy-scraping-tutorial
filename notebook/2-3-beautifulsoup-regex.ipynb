{
 "cells": [
  {
   "cell_type": "markdown",
   "metadata": {},
   "source": [
    "# Beautifulsoup: find by regual expression\n",
    "**First we import re for regex. Then, open a [page](https://morvanzhou.github.io/static/scraping/table.html), then we can apply beautifulsoup on this page's html.**"
   ]
  },
  {
   "cell_type": "code",
   "execution_count": 1,
   "metadata": {},
   "outputs": [
    {
     "name": "stdout",
     "output_type": "stream",
     "text": [
      "<!DOCTYPE html>\n",
      "<html lang=\"zh\">\n",
      "<head>\n",
      "\t<meta charset=\"UTF-8\">\n",
      "\t<title>table</title>\n",
      "\n",
      "\t<style>\n",
      "\timg {\n",
      "\t\twidth: 250px;\n",
      "\t}\n",
      "\ttable{\n",
      "\t\twidth:50%;\n",
      "\t}\n",
      "\ttd{\n",
      "\t\tmargin:10px;\n",
      "\t\tpadding:15px;\n",
      "\t}\n",
      "\t</style>\n",
      "</head>\n",
      "<body>\n",
      "\n",
      "<h1>header</h1>\n",
      "\n",
      "  <p>Paragh\n",
      "  <a href=\"https://github.com/ttyen/easy-scraping-tutorial\">link test</p>\n",
      "\n",
      "<br>\n",
      "<table id=\"course-list\">\n",
      "\t<tr>\n",
      "\t\t<th>\n",
      "\t\t\tclass\n",
      "\t\t</th><th>\n",
      "\t\t\tname\n",
      "\t\t</th><th>\n",
      "\t\t\tlength\n",
      "\t\t</th><th>\n",
      "\t\t\tpreview\n",
      "\t\t</th>\n",
      "\t</tr>\n",
      "\n",
      "\t<tr id=\"course1\" class=\"ml\">\n",
      "\t\t<td>\n",
      "\t\t\tweb scrawl\n",
      "\t\t</td><td>\n",
      "\t\t\t<a href=\"https://github.com/ttyen/easy-scraping-tutorial/\">\n",
      "\t\t\t\t</a>\n",
      "\t\t</td><td>\n",
      "\t\t\t2:00\n",
      "\t\t</td><td>\n",
      "\t\t\t<img src=\"https://github.com/ttyen/easy-scraping-tutorial/blob/master/notebook/img/googlesearch.png\">\n",
      "\t\t</td>\n",
      "\t</tr>\n",
      "\n",
      "</table>\n",
      "\n",
      "</body>\n",
      "</html>\n",
      "\n"
     ]
    }
   ],
   "source": [
    "from bs4 import BeautifulSoup\n",
    "from urllib.request import urlopen\n",
    "import re\n",
    "\n",
    "# if has Chinese, apply decode()\n",
    "html = urlopen(\"https://raw.githubusercontent.com/ttyen/easy-scraping-tutorial/master/notebook/table.html\").read().decode('utf-8')\n",
    "print(html)"
   ]
  },
  {
   "cell_type": "markdown",
   "metadata": {},
   "source": [
    "**Parsing this html using a method called lxml, create a soup object. Find all \"img\" tag which has a src in a given pattern.**"
   ]
  },
  {
   "cell_type": "code",
   "execution_count": 4,
   "metadata": {},
   "outputs": [
    {
     "name": "stdout",
     "output_type": "stream",
     "text": [
      "https://github.com/ttyen/easy-scraping-tutorial/blob/master/notebook/img/googlesearch.png\n"
     ]
    }
   ],
   "source": [
    "soup = BeautifulSoup(html, features='lxml')\n",
    "\n",
    "img_links = soup.find_all(\"img\", {\"src\": re.compile('.*?\\.png')})\n",
    "for link in img_links:\n",
    "    print(link['src'])"
   ]
  },
  {
   "cell_type": "markdown",
   "metadata": {},
   "source": [
    "**Or using some helpful functions to find tags. Access the attribute of found tags using a key just like what you do in a python dictionary.**"
   ]
  },
  {
   "cell_type": "code",
   "execution_count": 5,
   "metadata": {},
   "outputs": [
    {
     "name": "stdout",
     "output_type": "stream",
     "text": [
      "https://github.com/ttyen/easy-scraping-tutorial\n",
      "https://github.com/ttyen/easy-scraping-tutorial/\n"
     ]
    }
   ],
   "source": [
    "course_links = soup.find_all('a', {'href': re.compile('https://.*ttyen.*')})\n",
    "for link in course_links:\n",
    "    print(link['href'])"
   ]
  },
  {
   "cell_type": "code",
   "execution_count": null,
   "metadata": {},
   "outputs": [],
   "source": []
  }
 ],
 "metadata": {
  "kernelspec": {
   "display_name": "Python 3",
   "language": "python",
   "name": "python3"
  },
  "language_info": {
   "codemirror_mode": {
    "name": "ipython",
    "version": 3
   },
   "file_extension": ".py",
   "mimetype": "text/x-python",
   "name": "python",
   "nbconvert_exporter": "python",
   "pygments_lexer": "ipython3",
   "version": "3.6.4"
  }
 },
 "nbformat": 4,
 "nbformat_minor": 1
}
