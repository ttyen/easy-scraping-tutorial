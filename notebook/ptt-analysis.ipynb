{
 "cells": [
  {
   "cell_type": "code",
   "execution_count": 1,
   "metadata": {},
   "outputs": [],
   "source": [
    "%matplotlib notebook\n",
    "\n",
    "import json\n",
    "from matplotlib.font_manager import FontProperties\n",
    "from collections import defaultdict\n",
    "\n",
    "import jieba\n",
    "import matplotlib as mpl\n",
    "import matplotlib.pyplot as plt\n",
    "import numpy as np\n",
    "import seaborn as sns\n",
    "\n",
    "\n",
    "\n",
    "from sklearn.feature_extraction import DictVectorizer\n",
    "from sklearn.feature_extraction.text import TfidfTransformer\n",
    "from sklearn.svm import LinearSVC\n",
    "\n",
    "myfont=FontProperties(fname=r'C:\\Windows\\Fonts\\msjhl.ttc',size=10)\n",
    "#print(myfont)\n",
    "\n",
    "#sns.set(style='whitegrid',font=myfont.get_name())\n",
    "#sns.set(style='whitegrid',font=\"MingLiU\")\n",
    "sns.set(style='whitegrid')\n",
    "\n"
   ]
  },
  {
   "cell_type": "code",
   "execution_count": 2,
   "metadata": {},
   "outputs": [
    {
     "ename": "JSONDecodeError",
     "evalue": "Extra data: line 40 column 2 (char 215358)",
     "output_type": "error",
     "traceback": [
      "\u001b[1;31m---------------------------------------------------------------------------\u001b[0m",
      "\u001b[1;31mJSONDecodeError\u001b[0m                           Traceback (most recent call last)",
      "\u001b[1;32m<ipython-input-2-dd822f7db5d0>\u001b[0m in \u001b[0;36m<module>\u001b[1;34m()\u001b[0m\n\u001b[0;32m      4\u001b[0m \u001b[1;33m\u001b[0m\u001b[0m\n\u001b[0;32m      5\u001b[0m \u001b[1;32mwith\u001b[0m \u001b[0mopen\u001b[0m\u001b[1;33m(\u001b[0m\u001b[0mpath\u001b[0m\u001b[1;33m,\u001b[0m \u001b[0mencoding\u001b[0m \u001b[1;33m=\u001b[0m \u001b[1;34m'utf8'\u001b[0m\u001b[1;33m)\u001b[0m \u001b[1;32mas\u001b[0m \u001b[0mf\u001b[0m\u001b[1;33m:\u001b[0m\u001b[1;33m\u001b[0m\u001b[0m\n\u001b[1;32m----> 6\u001b[1;33m     \u001b[0mposts\u001b[0m \u001b[1;33m=\u001b[0m \u001b[0mjson\u001b[0m\u001b[1;33m.\u001b[0m\u001b[0mload\u001b[0m\u001b[1;33m(\u001b[0m\u001b[0mf\u001b[0m\u001b[1;33m)\u001b[0m\u001b[1;33m\u001b[0m\u001b[0m\n\u001b[0m",
      "\u001b[1;32m~\\Anaconda3\\lib\\json\\__init__.py\u001b[0m in \u001b[0;36mload\u001b[1;34m(fp, cls, object_hook, parse_float, parse_int, parse_constant, object_pairs_hook, **kw)\u001b[0m\n\u001b[0;32m    297\u001b[0m         \u001b[0mcls\u001b[0m\u001b[1;33m=\u001b[0m\u001b[0mcls\u001b[0m\u001b[1;33m,\u001b[0m \u001b[0mobject_hook\u001b[0m\u001b[1;33m=\u001b[0m\u001b[0mobject_hook\u001b[0m\u001b[1;33m,\u001b[0m\u001b[1;33m\u001b[0m\u001b[0m\n\u001b[0;32m    298\u001b[0m         \u001b[0mparse_float\u001b[0m\u001b[1;33m=\u001b[0m\u001b[0mparse_float\u001b[0m\u001b[1;33m,\u001b[0m \u001b[0mparse_int\u001b[0m\u001b[1;33m=\u001b[0m\u001b[0mparse_int\u001b[0m\u001b[1;33m,\u001b[0m\u001b[1;33m\u001b[0m\u001b[0m\n\u001b[1;32m--> 299\u001b[1;33m         parse_constant=parse_constant, object_pairs_hook=object_pairs_hook, **kw)\n\u001b[0m\u001b[0;32m    300\u001b[0m \u001b[1;33m\u001b[0m\u001b[0m\n\u001b[0;32m    301\u001b[0m \u001b[1;33m\u001b[0m\u001b[0m\n",
      "\u001b[1;32m~\\Anaconda3\\lib\\json\\__init__.py\u001b[0m in \u001b[0;36mloads\u001b[1;34m(s, encoding, cls, object_hook, parse_float, parse_int, parse_constant, object_pairs_hook, **kw)\u001b[0m\n\u001b[0;32m    352\u001b[0m             \u001b[0mparse_int\u001b[0m \u001b[1;32mis\u001b[0m \u001b[1;32mNone\u001b[0m \u001b[1;32mand\u001b[0m \u001b[0mparse_float\u001b[0m \u001b[1;32mis\u001b[0m \u001b[1;32mNone\u001b[0m \u001b[1;32mand\u001b[0m\u001b[1;33m\u001b[0m\u001b[0m\n\u001b[0;32m    353\u001b[0m             parse_constant is None and object_pairs_hook is None and not kw):\n\u001b[1;32m--> 354\u001b[1;33m         \u001b[1;32mreturn\u001b[0m \u001b[0m_default_decoder\u001b[0m\u001b[1;33m.\u001b[0m\u001b[0mdecode\u001b[0m\u001b[1;33m(\u001b[0m\u001b[0ms\u001b[0m\u001b[1;33m)\u001b[0m\u001b[1;33m\u001b[0m\u001b[0m\n\u001b[0m\u001b[0;32m    355\u001b[0m     \u001b[1;32mif\u001b[0m \u001b[0mcls\u001b[0m \u001b[1;32mis\u001b[0m \u001b[1;32mNone\u001b[0m\u001b[1;33m:\u001b[0m\u001b[1;33m\u001b[0m\u001b[0m\n\u001b[0;32m    356\u001b[0m         \u001b[0mcls\u001b[0m \u001b[1;33m=\u001b[0m \u001b[0mJSONDecoder\u001b[0m\u001b[1;33m\u001b[0m\u001b[0m\n",
      "\u001b[1;32m~\\Anaconda3\\lib\\json\\decoder.py\u001b[0m in \u001b[0;36mdecode\u001b[1;34m(self, s, _w)\u001b[0m\n\u001b[0;32m    340\u001b[0m         \u001b[0mend\u001b[0m \u001b[1;33m=\u001b[0m \u001b[0m_w\u001b[0m\u001b[1;33m(\u001b[0m\u001b[0ms\u001b[0m\u001b[1;33m,\u001b[0m \u001b[0mend\u001b[0m\u001b[1;33m)\u001b[0m\u001b[1;33m.\u001b[0m\u001b[0mend\u001b[0m\u001b[1;33m(\u001b[0m\u001b[1;33m)\u001b[0m\u001b[1;33m\u001b[0m\u001b[0m\n\u001b[0;32m    341\u001b[0m         \u001b[1;32mif\u001b[0m \u001b[0mend\u001b[0m \u001b[1;33m!=\u001b[0m \u001b[0mlen\u001b[0m\u001b[1;33m(\u001b[0m\u001b[0ms\u001b[0m\u001b[1;33m)\u001b[0m\u001b[1;33m:\u001b[0m\u001b[1;33m\u001b[0m\u001b[0m\n\u001b[1;32m--> 342\u001b[1;33m             \u001b[1;32mraise\u001b[0m \u001b[0mJSONDecodeError\u001b[0m\u001b[1;33m(\u001b[0m\u001b[1;34m\"Extra data\"\u001b[0m\u001b[1;33m,\u001b[0m \u001b[0ms\u001b[0m\u001b[1;33m,\u001b[0m \u001b[0mend\u001b[0m\u001b[1;33m)\u001b[0m\u001b[1;33m\u001b[0m\u001b[0m\n\u001b[0m\u001b[0;32m    343\u001b[0m         \u001b[1;32mreturn\u001b[0m \u001b[0mobj\u001b[0m\u001b[1;33m\u001b[0m\u001b[0m\n\u001b[0;32m    344\u001b[0m \u001b[1;33m\u001b[0m\u001b[0m\n",
      "\u001b[1;31mJSONDecodeError\u001b[0m: Extra data: line 40 column 2 (char 215358)"
     ]
    }
   ],
   "source": [
    "# load ptt posts\n",
    "\n",
    "path = 'gossip.json'\n",
    "\n",
    "with open(path, encoding = 'utf8') as f:\n",
    "    posts = json.load(f)"
   ]
  },
  {
   "cell_type": "markdown",
   "metadata": {},
   "source": [
    "# Comment Analysis"
   ]
  },
  {
   "cell_type": "code",
   "execution_count": null,
   "metadata": {},
   "outputs": [],
   "source": [
    "# get pushes\n",
    "\n",
    "total_comments = defaultdict(int)\n",
    "total_pushes = defaultdict(int)\n",
    "total_hates = defaultdict(int)\n",
    "\n",
    "for post in posts:\n",
    "    for comment in post['comments']:\n",
    "        user = comment['user']\n",
    "        total_comments[user] += 1\n",
    "\n",
    "        if comment['score'] > 0:\n",
    "            total_pushes[user] += 1\n",
    "\n",
    "        elif comment['score'] < 0:\n",
    "            total_hates[user] += 1\n",
    "    print(total_pushes)"
   ]
  },
  {
   "cell_type": "code",
   "execution_count": null,
   "metadata": {},
   "outputs": [],
   "source": [
    "def show_distributions(counts, pushes, hates):\n",
    "    sorted_cnts = [t[0] for t in sorted(counts.items(), key=lambda x: -x[1])][:100]\n",
    "    y = [counts[u] for u in sorted_cnts]\n",
    "    y_pushes = [pushes[u] for u in sorted_cnts]\n",
    "    y_hates = [hates[u] for u in sorted_cnts]\n",
    "    x = range(len(y))\n",
    "    \n",
    "    f, ax = plt.subplots(figsize=(10, 6))\n",
    "    \n",
    "    sns.set_color_codes('pastel')\n",
    "    plt.plot(x, y, label='Total {}'.format('comments'), color='blue')\n",
    "    plt.plot(x, y_pushes, label='Total {}'.format('pushes'), color='green')\n",
    "    plt.plot(x, y_hates, label='Total {}'.format('hates'), color='red')\n",
    "\n",
    "    ax.legend(ncol=2, loc='upper right', frameon=True)\n",
    "    ax.set(ylabel='counts',\n",
    "           xlabel='',\n",
    "           title='Total comments')\n",
    "    sns.despine(left=True, bottom=True)\n",
    "\n",
    "    plt.show(f)"
   ]
  },
  {
   "cell_type": "code",
   "execution_count": null,
   "metadata": {
    "scrolled": true
   },
   "outputs": [],
   "source": [
    "# display pushes# displ \n",
    "show_distributions(total_comments, total_pushes, total_hates)"
   ]
  },
  {
   "cell_type": "code",
   "execution_count": null,
   "metadata": {},
   "outputs": [],
   "source": [
    "# display pushes\n",
    "show_distributions(total_comments, total_pushes, total_hates)"
   ]
  },
  {
   "cell_type": "markdown",
   "metadata": {},
   "source": [
    "# Word Analysis"
   ]
  },
  {
   "cell_type": "code",
   "execution_count": null,
   "metadata": {},
   "outputs": [],
   "source": [
    "# grap post\n",
    "words = []\n",
    "scores = []\n",
    "\n",
    "for post in posts:\n",
    "    d = defaultdict(int)\n",
    "    content = post['content']\n",
    "    if post['score'] != 0:\n",
    "        for l in content.split('\\n'):\n",
    "            if l:\n",
    "                for w in jieba.cut(l):\n",
    "                    d[w] += 1\n",
    "        if len(d) > 0:\n",
    "            words.append(d)\n",
    "            scores.append(1 if post['score'] > 0 else 0)"
   ]
  },
  {
   "cell_type": "code",
   "execution_count": null,
   "metadata": {},
   "outputs": [],
   "source": [
    "# grap comments\n",
    "c_words = []\n",
    "c_scores = []\n",
    "\n",
    "for post in posts:\n",
    "    for comment in post['comments']:\n",
    "        l = comment['content'].strip()\n",
    "        if l and comment['score'] != 0:\n",
    "            d = defaultdict(int)\n",
    "            for w in jieba.cut(l):\n",
    "                d[w] += 1\n",
    "            if len(d) > 0:\n",
    "                c_scores.append(1 if comment['score'] > 0 else 0)\n",
    "                c_words.append(d)"
   ]
  },
  {
   "cell_type": "code",
   "execution_count": null,
   "metadata": {},
   "outputs": [],
   "source": [
    "# convert to vectors# conve \n",
    "dvec = DictVectorizer()\n",
    "tfidf = TfidfTransformer()\n",
    "X = tfidf.fit_transform(dvec.fit_transform(words))\n",
    "\n",
    "c_dvec = DictVectorizer()\n",
    "c_tfidf = TfidfTransformer()\n",
    "c_X = c_tfidf.fit_transform(c_dvec.fit_transform(c_words))"
   ]
  },
  {
   "cell_type": "code",
   "execution_count": null,
   "metadata": {},
   "outputs": [],
   "source": [
    "svc = LinearSVC()\n",
    "svc.fit(X, scores)\n",
    "\n",
    "c_svc = LinearSVC()\n",
    "c_svc.fit(c_X, c_scores)"
   ]
  },
  {
   "cell_type": "code",
   "execution_count": null,
   "metadata": {},
   "outputs": [],
   "source": [
    "def display_top_features(weights, names, top_n, select=abs):\n",
    "    top_features = sorted(zip(weights, names), key=lambda x: select(x[0]), reverse=True)[:top_n]\n",
    "    top_weights = [x[0] for x in top_features]\n",
    "    top_names = [x[1] for x in top_features]\n",
    "\n",
    "    fig, ax = plt.subplots(figsize=(10,8))\n",
    "    ind = np.arange(top_n)\n",
    "    bars = ax.bar(ind, top_weights, color='blue', edgecolor='black')\n",
    "    for bar, w in zip(bars, top_weights):\n",
    "        if w < 0:\n",
    "            bar.set_facecolor('red')\n",
    "\n",
    "    width = 0.30\n",
    "    ax.set_xticks(ind + width)\n",
    "    #ax.set_xticklabels(top_names, rotation=45, fontsize=12, fontdict={'fontname': 'MingLiU', 'fontsize':12})\n",
    "    ax.set_xticklabels(top_names, rotation=90, fontproperties=myfont)\n",
    "    \n",
    "    plt.show(fig)"
   ]
  },
  {
   "cell_type": "code",
   "execution_count": null,
   "metadata": {},
   "outputs": [],
   "source": [
    "# top features for posts\n",
    "display_top_features(svc.coef_[0], dvec.get_feature_names(), 30)"
   ]
  },
  {
   "cell_type": "code",
   "execution_count": null,
   "metadata": {},
   "outputs": [],
   "source": [
    "# top positive features for posts\n",
    "display_top_features(svc.coef_[0], dvec.get_feature_names(), 30, select=lambda x: x)"
   ]
  },
  {
   "cell_type": "code",
   "execution_count": null,
   "metadata": {},
   "outputs": [],
   "source": [
    "# top features for comments\n",
    "display_top_features(c_svc.coef_[0], c_dvec.get_feature_names(), 30)"
   ]
  },
  {
   "cell_type": "code",
   "execution_count": null,
   "metadata": {},
   "outputs": [],
   "source": []
  }
 ],
 "metadata": {
  "kernelspec": {
   "display_name": "Python 3",
   "language": "python",
   "name": "python3"
  },
  "language_info": {
   "codemirror_mode": {
    "name": "ipython",
    "version": 3
   },
   "file_extension": ".py",
   "mimetype": "text/x-python",
   "name": "python",
   "nbconvert_exporter": "python",
   "pygments_lexer": "ipython3",
   "version": "3.6.4"
  }
 },
 "nbformat": 4,
 "nbformat_minor": 2
}
