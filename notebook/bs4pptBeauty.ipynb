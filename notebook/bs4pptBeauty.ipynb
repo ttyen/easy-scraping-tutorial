{
 "cells": [
  {
   "cell_type": "markdown",
   "metadata": {},
   "source": [
    "http://blog.castman.net/%E6%95%99%E5%AD%B8/2016/12/20/python-data-science-tutorial-2.html\n",
    "# 範例: PTT Beauty 板今日圖片下載器"
   ]
  },
  {
   "cell_type": "code",
   "execution_count": 1,
   "metadata": {},
   "outputs": [],
   "source": [
    "import requests; import bs4; import matplotlib;import time;import re;import os;import json;import urllib.request"
   ]
  },
  {
   "cell_type": "code",
   "execution_count": 2,
   "metadata": {},
   "outputs": [],
   "source": [
    "def get_web_page(url):\n",
    "    resp = requests.get(\n",
    "        url=url,\n",
    "        cookies={'over18': '1'}\n",
    "    )\n",
    "    if resp.status_code != 200:\n",
    "        print('Invalid url:', resp.url)\n",
    "        return None\n",
    "    else:\n",
    "        return resp.text"
   ]
  },
  {
   "cell_type": "code",
   "execution_count": 3,
   "metadata": {},
   "outputs": [
    {
     "name": "stdout",
     "output_type": "stream",
     "text": [
      "<!DOCTYPE html>\n",
      "<html>\n",
      "\t<head>\n",
      "\t\t<meta charset=\"utf-8\">\n",
      "\t\t\n",
      "\n",
      "<meta name=\"viewport\" content=\"width=device-width, initial-scale=1\">\n",
      "\n",
      "<title>看板 Beauty 文章列表 - 批踢踢實業坊</title>\n",
      "\n",
      "<link rel=\"stylesheet\" type=\"text/css\" href=\"//images.ptt.cc/bbs/v2.25/bbs-common.css\">\n",
      "<link rel=\"stylesheet\" type=\"text/css\" href=\"//images.ptt.cc/bbs/v2.25/bbs-base.css\" media=\"screen\">\n",
      "<link rel=\"stylesheet\" type=\"text/css\" href=\"//images.ptt.cc/bbs/v2.25/bbs-custom.css\">\n",
      "<link rel=\"stylesheet\" type=\"text/css\" href=\"//images.ptt.cc/bbs/v2.25/pushstream.css\" media=\"screen\">\n",
      "<link rel=\"stylesheet\" type=\"text/css\" href=\"//images.ptt.cc/bbs/v2.25/bbs-print.css\" media=\"print\">\n",
      "\n",
      "\n",
      "\n",
      "\n",
      "\t</head>\n",
      "    <body>\n",
      "\t\t\n",
      "<div id=\"topbar-container\">\n",
      "\t<div id=\"topbar\" class=\"bbs-content\">\n",
      "\t\t<a id=\"logo\" href=\"/bbs/\">批踢踢實業坊</a>\n",
      "\t\t<span>&rsaquo;</span>\n",
      "\t\t<a class=\"board\" href=\"/bbs/Beauty/index.html\"><span class=\"board-label\">看板 </span>Beauty</a>\n",
      "\t\t<a class=\"right small\" href=\"/about.html\">關於我們</a>\n",
      "\t\t<a class=\"right small\" href=\"/contact.html\">聯絡資訊</a>\n",
      "\t</div>\n",
      "</div>\n",
      "\n",
      "<div id=\"main-container\">\n",
      "\t<div id=\"action-bar-container\">\n",
      "\t\t<div class=\"action-bar\">\n",
      "\t\t\t<div class=\"btn-group btn-group-dir\">\n",
      "\t\t\t\t<a class=\"btn selected\" href=\"/bbs/Beauty/index.html\">看板</a>\n",
      "\t\t\t\t<a class=\"btn\" href=\"/man/Beauty/index.html\">精華區</a>\n",
      "\t\t\t</div>\n",
      "\t\t\t<div class=\"btn-group btn-group-paging\">\n",
      "\t\t\t\t<a class=\"btn wide\" href=\"/bbs/Beauty/index1.html\">最舊</a>\n",
      "\t\t\t\t<a class=\"btn wide\" href=\"/bbs/Beauty/index2479.html\">&lsaquo; 上頁</a>\n",
      "\t\t\t\t<a class=\"btn wide disabled\">下頁 &rsaquo;</a>\n",
      "\t\t\t\t<a class=\"btn wide\" href=\"/bbs/Beauty/index.html\">最新</a>\n",
      "\t\t\t</div>\n",
      "\t\t</div>\n",
      "\t</div>\n",
      "\n",
      "\t<div class=\"r-list-container action-bar-margin bbs-screen\">\n",
      "\t\t<div class=\"search-bar\">\n",
      "\t\t\t<form type=\"get\" action=\"search\" id=\"search-bar\">\n",
      "\t\t\t\t<input class=\"query\" type=\"text\" name=\"q\" value=\"\" placeholder=\"搜尋文章&#x22ef;\">\n",
      "\t\t\t</form>\n",
      "\t\t</div>\n",
      "\n",
      "\t\t\n",
      "\t\t\n",
      "            \n",
      "        \n",
      "        \n",
      "\t\t<div class=\"r-ent\">\n",
      "\t\t\t<div class=\"nrec\"><span class=\"hl f2\">9</span></div>\n",
      "\t\t\t<div class=\"title\">\n",
      "\t\t\t\n",
      "\t\t\t\t<a href=\"/bbs/Beauty/M.1526052447.A.C8D.html\">[公告] OCG5566 水桶</a>\n",
      "\t\t\t\n",
      "\t\t\t</div>\n",
      "\t\t\t<div class=\"meta\">\n",
      "\t\t\t\t<div class=\"author\">Kamiyu</div>\n",
      "\t\t\t\t<div class=\"article-menu\">\n",
      "\t\t\t\t\t\n",
      "\t\t\t\t\t<div class=\"trigger\">&#x22ef;</div>\n",
      "\t\t\t\t\t<div class=\"dropdown\">\n",
      "\t\t\t\t\t\t<div class=\"item\"><a href=\"/bbs/Beauty/search?q=thread%3A%5B%E5%85%AC%E5%91%8A%5D&#43;OCG5566&#43;%E6%B0%B4%E6%A1%B6\">搜尋同標題文章</a></div>\n",
      "\t\t\t\t\t\t\n",
      "\t\t\t\t\t\t<div class=\"item\"><a href=\"/bbs/Beauty/search?q=author%3AKamiyu\">搜尋看板內 Kamiyu 的文章</a></div>\n",
      "\t\t\t\t\t\t\n",
      "\t\t\t\t\t</div>\n",
      "\t\t\t\t\t\n",
      "\t\t\t\t</div>\n",
      "\t\t\t\t<div class=\"date\"> 5/11</div>\n",
      "\t\t\t\t<div class=\"mark\">M</div>\n",
      "\t\t\t</div>\n",
      "\t\t</div>\n",
      "\n",
      "\t\t\n",
      "            \n",
      "        \n",
      "        \n",
      "\t\t<div class=\"r-ent\">\n",
      "\t\t\t<div class=\"nrec\"><span class=\"hl f2\">3</span></div>\n",
      "\t\t\t<div class=\"title\">\n",
      "\t\t\t\n",
      "\t\t\t\t<a href=\"/bbs/Beauty/M.1526052614.A.F32.html\">[正妹] UNI.T  宜珍</a>\n",
      "\t\t\t\n",
      "\t\t\t</div>\n",
      "\t\t\t<div class=\"meta\">\n",
      "\t\t\t\t<div class=\"author\">colling</div>\n",
      "\t\t\t\t<div class=\"article-menu\">\n",
      "\t\t\t\t\t\n",
      "\t\t\t\t\t<div class=\"trigger\">&#x22ef;</div>\n",
      "\t\t\t\t\t<div class=\"dropdown\">\n",
      "\t\t\t\t\t\t<div class=\"item\"><a href=\"/bbs/Beauty/search?q=thread%3A%5B%E6%AD%A3%E5%A6%B9%5D&#43;UNI.T&#43;&#43;%E5%AE%9C%E7%8F%8D\">搜尋同標題文章</a></div>\n",
      "\t\t\t\t\t\t\n",
      "\t\t\t\t\t\t<div class=\"item\"><a href=\"/bbs/Beauty/search?q=author%3Acolling\">搜尋看板內 colling 的文章</a></div>\n",
      "\t\t\t\t\t\t\n",
      "\t\t\t\t\t</div>\n",
      "\t\t\t\t\t\n",
      "\t\t\t\t</div>\n",
      "\t\t\t\t<div class=\"date\"> 5/11</div>\n",
      "\t\t\t\t<div class=\"mark\"></div>\n",
      "\t\t\t</div>\n",
      "\t\t</div>\n",
      "\n",
      "\t\t\n",
      "            \n",
      "        \n",
      "        \n",
      "\t\t<div class=\"r-ent\">\n",
      "\t\t\t<div class=\"nrec\"><span class=\"hl f2\">8</span></div>\n",
      "\t\t\t<div class=\"title\">\n",
      "\t\t\t\n",
      "\t\t\t\t<a href=\"/bbs/Beauty/M.1526053245.A.0AC.html\">[正妹] AKB48馬嘉伶</a>\n",
      "\t\t\t\n",
      "\t\t\t</div>\n",
      "\t\t\t<div class=\"meta\">\n",
      "\t\t\t\t<div class=\"author\">Steven1368</div>\n",
      "\t\t\t\t<div class=\"article-menu\">\n",
      "\t\t\t\t\t\n",
      "\t\t\t\t\t<div class=\"trigger\">&#x22ef;</div>\n",
      "\t\t\t\t\t<div class=\"dropdown\">\n",
      "\t\t\t\t\t\t<div class=\"item\"><a href=\"/bbs/Beauty/search?q=thread%3A%5B%E6%AD%A3%E5%A6%B9%5D&#43;AKB48%E9%A6%AC%E5%98%89%E4%BC%B6\">搜尋同標題文章</a></div>\n",
      "\t\t\t\t\t\t\n",
      "\t\t\t\t\t\t<div class=\"item\"><a href=\"/bbs/Beauty/search?q=author%3ASteven1368\">搜尋看板內 Steven1368 的文章</a></div>\n",
      "\t\t\t\t\t\t\n",
      "\t\t\t\t\t</div>\n",
      "\t\t\t\t\t\n",
      "\t\t\t\t</div>\n",
      "\t\t\t\t<div class=\"date\"> 5/11</div>\n",
      "\t\t\t\t<div class=\"mark\"></div>\n",
      "\t\t\t</div>\n",
      "\t\t</div>\n",
      "\n",
      "\t\t\n",
      "            \n",
      "        \n",
      "        \n",
      "\t\t<div class=\"r-ent\">\n",
      "\t\t\t<div class=\"nrec\"><span class=\"hl f2\">5</span></div>\n",
      "\t\t\t<div class=\"title\">\n",
      "\t\t\t\n",
      "\t\t\t\t<a href=\"/bbs/Beauty/M.1526056001.A.B71.html\">[正妹] 甜美可愛日本人</a>\n",
      "\t\t\t\n",
      "\t\t\t</div>\n",
      "\t\t\t<div class=\"meta\">\n",
      "\t\t\t\t<div class=\"author\">Timcanpy</div>\n",
      "\t\t\t\t<div class=\"article-menu\">\n",
      "\t\t\t\t\t\n",
      "\t\t\t\t\t<div class=\"trigger\">&#x22ef;</div>\n",
      "\t\t\t\t\t<div class=\"dropdown\">\n",
      "\t\t\t\t\t\t<div class=\"item\"><a href=\"/bbs/Beauty/search?q=thread%3A%5B%E6%AD%A3%E5%A6%B9%5D&#43;%E7%94%9C%E7%BE%8E%E5%8F%AF%E6%84%9B%E6%97%A5%E6%9C%AC%E4%BA%BA\">搜尋同標題文章</a></div>\n",
      "\t\t\t\t\t\t\n",
      "\t\t\t\t\t\t<div class=\"item\"><a href=\"/bbs/Beauty/search?q=author%3ATimcanpy\">搜尋看板內 Timcanpy 的文章</a></div>\n",
      "\t\t\t\t\t\t\n",
      "\t\t\t\t\t</div>\n",
      "\t\t\t\t\t\n",
      "\t\t\t\t</div>\n",
      "\t\t\t\t<div class=\"date\"> 5/12</div>\n",
      "\t\t\t\t<div class=\"mark\"></div>\n",
      "\t\t\t</div>\n",
      "\t\t</div>\n",
      "\n",
      "\t\t\n",
      "        \n",
      "        <div class=\"r-list-sep\"></div>\n",
      "            \n",
      "                \n",
      "        \n",
      "        \n",
      "\t\t<div class=\"r-ent\">\n",
      "\t\t\t<div class=\"nrec\"><span class=\"hl f3\">95</span></div>\n",
      "\t\t\t<div class=\"title\">\n",
      "\t\t\t\n",
      "\t\t\t\t<a href=\"/bbs/Beauty/M.1443906121.A.65B.html\">[公告] 不願上表特 ＆ 優文推薦 ＆ 檢舉建議專區</a>\n",
      "\t\t\t\n",
      "\t\t\t</div>\n",
      "\t\t\t<div class=\"meta\">\n",
      "\t\t\t\t<div class=\"author\">ffwind</div>\n",
      "\t\t\t\t<div class=\"article-menu\">\n",
      "\t\t\t\t\t\n",
      "\t\t\t\t\t<div class=\"trigger\">&#x22ef;</div>\n",
      "\t\t\t\t\t<div class=\"dropdown\">\n",
      "\t\t\t\t\t\t<div class=\"item\"><a href=\"/bbs/Beauty/search?q=thread%3A%5B%E5%85%AC%E5%91%8A%5D&#43;%E4%B8%8D%E9%A1%98%E4%B8%8A%E8%A1%A8%E7%89%B9&#43;%EF%BC%86&#43;%E5%84%AA%E6%96%87%E6%8E%A8%E8%96%A6&#43;%EF%BC%86&#43;%E6%AA%A2%E8%88%89%E5%BB%BA%E8%AD%B0%E5%B0%88%E5%8D%80\">搜尋同標題文章</a></div>\n",
      "\t\t\t\t\t\t\n",
      "\t\t\t\t\t\t<div class=\"item\"><a href=\"/bbs/Beauty/search?q=author%3Affwind\">搜尋看板內 ffwind 的文章</a></div>\n",
      "\t\t\t\t\t\t\n",
      "\t\t\t\t\t</div>\n",
      "\t\t\t\t\t\n",
      "\t\t\t\t</div>\n",
      "\t\t\t\t<div class=\"date\">10/04</div>\n",
      "\t\t\t\t<div class=\"mark\"></div>\n",
      "\t\t\t</div>\n",
      "\t\t</div>\n",
      "\n",
      "            \n",
      "                \n",
      "        \n",
      "        \n",
      "\t\t<div class=\"r-ent\">\n",
      "\t\t\t<div class=\"nrec\"></div>\n",
      "\t\t\t<div class=\"title\">\n",
      "\t\t\t\n",
      "\t\t\t\t<a href=\"/bbs/Beauty/M.1423752558.A.849.html\">[公告] 表特板板規 (2015.2.12)</a>\n",
      "\t\t\t\n",
      "\t\t\t</div>\n",
      "\t\t\t<div class=\"meta\">\n",
      "\t\t\t\t<div class=\"author\">GeminiMan</div>\n",
      "\t\t\t\t<div class=\"article-menu\">\n",
      "\t\t\t\t\t\n",
      "\t\t\t\t\t<div class=\"trigger\">&#x22ef;</div>\n",
      "\t\t\t\t\t<div class=\"dropdown\">\n",
      "\t\t\t\t\t\t<div class=\"item\"><a href=\"/bbs/Beauty/search?q=thread%3A%5B%E5%85%AC%E5%91%8A%5D&#43;%E8%A1%A8%E7%89%B9%E6%9D%BF%E6%9D%BF%E8%A6%8F&#43;%282015.2.12%29\">搜尋同標題文章</a></div>\n",
      "\t\t\t\t\t\t\n",
      "\t\t\t\t\t\t<div class=\"item\"><a href=\"/bbs/Beauty/search?q=author%3AGeminiMan\">搜尋看板內 GeminiMan 的文章</a></div>\n",
      "\t\t\t\t\t\t\n",
      "\t\t\t\t\t</div>\n",
      "\t\t\t\t\t\n",
      "\t\t\t\t</div>\n",
      "\t\t\t\t<div class=\"date\"> 2/12</div>\n",
      "\t\t\t\t<div class=\"mark\">!</div>\n",
      "\t\t\t</div>\n",
      "\t\t</div>\n",
      "\n",
      "            \n",
      "                \n",
      "        \n",
      "        \n",
      "\t\t<div class=\"r-ent\">\n",
      "\t\t\t<div class=\"nrec\"><span class=\"hl f1\">爆</span></div>\n",
      "\t\t\t<div class=\"title\">\n",
      "\t\t\t\n",
      "\t\t\t\t<a href=\"/bbs/Beauty/M.1430099938.A.3B7.html\">[公告] 對於謾罵，希望大家將心比心</a>\n",
      "\t\t\t\n",
      "\t\t\t</div>\n",
      "\t\t\t<div class=\"meta\">\n",
      "\t\t\t\t<div class=\"author\">ffwind</div>\n",
      "\t\t\t\t<div class=\"article-menu\">\n",
      "\t\t\t\t\t\n",
      "\t\t\t\t\t<div class=\"trigger\">&#x22ef;</div>\n",
      "\t\t\t\t\t<div class=\"dropdown\">\n",
      "\t\t\t\t\t\t<div class=\"item\"><a href=\"/bbs/Beauty/search?q=thread%3A%5B%E5%85%AC%E5%91%8A%5D&#43;%E5%B0%8D%E6%96%BC%E8%AC%BE%E7%BD%B5%EF%BC%8C%E5%B8%8C%E6%9C%9B%E5%A4%A7%E5%AE%B6%E5%B0%87%E5%BF%83%E6%AF%94%E5%BF%83\">搜尋同標題文章</a></div>\n",
      "\t\t\t\t\t\t\n",
      "\t\t\t\t\t\t<div class=\"item\"><a href=\"/bbs/Beauty/search?q=author%3Affwind\">搜尋看板內 ffwind 的文章</a></div>\n",
      "\t\t\t\t\t\t\n",
      "\t\t\t\t\t</div>\n",
      "\t\t\t\t\t\n",
      "\t\t\t\t</div>\n",
      "\t\t\t\t<div class=\"date\"> 4/27</div>\n",
      "\t\t\t\t<div class=\"mark\">M</div>\n",
      "\t\t\t</div>\n",
      "\t\t</div>\n",
      "\n",
      "            \n",
      "                \n",
      "        \n",
      "        \n",
      "\t\t<div class=\"r-ent\">\n",
      "\t\t\t<div class=\"nrec\"><span class=\"hl f3\">97</span></div>\n",
      "\t\t\t<div class=\"title\">\n",
      "\t\t\t\n",
      "\t\t\t\t<a href=\"/bbs/Beauty/M.1507213965.A.0C7.html\">[公告] 板規修訂 - 意淫文字</a>\n",
      "\t\t\t\n",
      "\t\t\t</div>\n",
      "\t\t\t<div class=\"meta\">\n",
      "\t\t\t\t<div class=\"author\">GeminiMan</div>\n",
      "\t\t\t\t<div class=\"article-menu\">\n",
      "\t\t\t\t\t\n",
      "\t\t\t\t\t<div class=\"trigger\">&#x22ef;</div>\n",
      "\t\t\t\t\t<div class=\"dropdown\">\n",
      "\t\t\t\t\t\t<div class=\"item\"><a href=\"/bbs/Beauty/search?q=thread%3A%5B%E5%85%AC%E5%91%8A%5D&#43;%E6%9D%BF%E8%A6%8F%E4%BF%AE%E8%A8%82&#43;-&#43;%E6%84%8F%E6%B7%AB%E6%96%87%E5%AD%97\">搜尋同標題文章</a></div>\n",
      "\t\t\t\t\t\t\n",
      "\t\t\t\t\t\t<div class=\"item\"><a href=\"/bbs/Beauty/search?q=author%3AGeminiMan\">搜尋看板內 GeminiMan 的文章</a></div>\n",
      "\t\t\t\t\t\t\n",
      "\t\t\t\t\t</div>\n",
      "\t\t\t\t\t\n",
      "\t\t\t\t</div>\n",
      "\t\t\t\t<div class=\"date\">10/05</div>\n",
      "\t\t\t\t<div class=\"mark\">M</div>\n",
      "\t\t\t</div>\n",
      "\t\t</div>\n",
      "\n",
      "            \n",
      "                \n",
      "        \n",
      "        \n",
      "\t\t<div class=\"r-ent\">\n",
      "\t\t\t<div class=\"nrec\"><span class=\"hl f3\">10</span></div>\n",
      "\t\t\t<div class=\"title\">\n",
      "\t\t\t\n",
      "\t\t\t\t<a href=\"/bbs/Beauty/M.1476111251.A.C20.html\">[公告] 偷拍相關板規修訂</a>\n",
      "\t\t\t\n",
      "\t\t\t</div>\n",
      "\t\t\t<div class=\"meta\">\n",
      "\t\t\t\t<div class=\"author\">GeminiMan</div>\n",
      "\t\t\t\t<div class=\"article-menu\">\n",
      "\t\t\t\t\t\n",
      "\t\t\t\t\t<div class=\"trigger\">&#x22ef;</div>\n",
      "\t\t\t\t\t<div class=\"dropdown\">\n",
      "\t\t\t\t\t\t<div class=\"item\"><a href=\"/bbs/Beauty/search?q=thread%3A%5B%E5%85%AC%E5%91%8A%5D&#43;%E5%81%B7%E6%8B%8D%E7%9B%B8%E9%97%9C%E6%9D%BF%E8%A6%8F%E4%BF%AE%E8%A8%82\">搜尋同標題文章</a></div>\n",
      "\t\t\t\t\t\t\n",
      "\t\t\t\t\t\t<div class=\"item\"><a href=\"/bbs/Beauty/search?q=author%3AGeminiMan\">搜尋看板內 GeminiMan 的文章</a></div>\n",
      "\t\t\t\t\t\t\n",
      "\t\t\t\t\t</div>\n",
      "\t\t\t\t\t\n",
      "\t\t\t\t</div>\n",
      "\t\t\t\t<div class=\"date\">10/10</div>\n",
      "\t\t\t\t<div class=\"mark\">M</div>\n",
      "\t\t\t</div>\n",
      "\t\t</div>\n",
      "\n",
      "            \n",
      "        \n",
      "\t</div>\n",
      "\n",
      "    \n",
      "</div>\n",
      "\n",
      "\t\t\n",
      "\n",
      "<script>\n",
      "  (function(i,s,o,g,r,a,m){i['GoogleAnalyticsObject']=r;i[r]=i[r]||function(){\n",
      "  (i[r].q=i[r].q||[]).push(arguments)},i[r].l=1*new Date();a=s.createElement(o),\n",
      "  m=s.getElementsByTagName(o)[0];a.async=1;a.src=g;m.parentNode.insertBefore(a,m)\n",
      "  })(window,document,'script','https://www.google-analytics.com/analytics.js','ga');\n",
      "\n",
      "  ga('create', 'UA-32365737-1', {\n",
      "    cookieDomain: 'ptt.cc',\n",
      "    legacyCookieDomain: 'ptt.cc'\n",
      "  });\n",
      "  ga('send', 'pageview');\n",
      "</script>\n",
      "\n",
      "\n",
      "\t\t\n",
      "<script src=\"//ajax.googleapis.com/ajax/libs/jquery/2.1.1/jquery.min.js\"></script>\n",
      "<script src=\"//images.ptt.cc/bbs/v2.25/bbs.js\"></script>\n",
      "\n",
      "    </body>\n",
      "</html>\n",
      "\n"
     ]
    }
   ],
   "source": [
    "page = get_web_page('https://www.ptt.cc/bbs/Beauty/index.html')\n",
    "if page:\n",
    "\tprint(page)"
   ]
  },
  {
   "cell_type": "markdown",
   "metadata": {},
   "source": [
    "網頁 = 由標籤 (tag) 所組成的階層式文件\n",
    "你在瀏覽器看到的美觀網頁，主要由三個部分構成: HTML (網頁的骨架結構)、CSS (網頁的樣式) 與 JavaScript (在瀏覽器端執行，負責與使用者互動的程式功能)。對於網頁或爬蟲的初學者來說，最重要的觀念是了解：網頁就是由各式標籤 (tag) 所組成的階層式文件，要取得所需的網頁區塊資料，只要用 tag 與相關屬性去定位資料所在位置即可。"
   ]
  },
  {
   "cell_type": "code",
   "execution_count": 4,
   "metadata": {},
   "outputs": [],
   "source": [
    "html_doc = \"\"\"\n",
    "<html>\n",
    "  <head>\n",
    "    <title>我是網頁標題</title>\n",
    "    <style>\n",
    "    .large {\n",
    "      color:blue;\n",
    "      text-align: center;\n",
    "    }\n",
    "    </style>\n",
    "  </head>\n",
    "  <body>\n",
    "    <h1 class=\"large\">我是變色且置中的抬頭</h1>\n",
    "    <p id=\"p1\">我是段落一</p>\n",
    "    <p id=\"p2\" style=\"\">我是段落二</p>\n",
    "    <div><a href='http://blog.castman.net' style=\"font-size:200%;\">我是放大的超連結</a></div>\n",
    "  </body>\n",
    "</html>\n",
    "\"\"\""
   ]
  },
  {
   "cell_type": "markdown",
   "metadata": {},
   "source": [
    "![](img/htmltree.png)"
   ]
  },
  {
   "cell_type": "markdown",
   "metadata": {},
   "source": [
    "先創建一個 BeautifulSoup 物件，將網頁讀入"
   ]
  },
  {
   "cell_type": "code",
   "execution_count": 5,
   "metadata": {},
   "outputs": [
    {
     "name": "stdout",
     "output_type": "stream",
     "text": [
      "\n",
      "<html>\n",
      "<head>\n",
      "<title>我是網頁標題</title>\n",
      "<style>\n",
      "    .large {\n",
      "      color:blue;\n",
      "      text-align: center;\n",
      "    }\n",
      "    </style>\n",
      "</head>\n",
      "<body>\n",
      "<h1 class=\"large\">我是變色且置中的抬頭</h1>\n",
      "<p id=\"p1\">我是段落一</p>\n",
      "<p id=\"p2\" style=\"\">我是段落二</p>\n",
      "<div><a href=\"http://blog.castman.net\" style=\"font-size:200%;\">我是放大的超連結</a></div>\n",
      "</body>\n",
      "</html>\n",
      "\n"
     ]
    }
   ],
   "source": [
    "from bs4 import BeautifulSoup\n",
    "soup = BeautifulSoup(html_doc, 'html.parser')\n",
    "print(soup)\n",
    "# <html>\n",
    "# <head>\n",
    "# <title>我是網頁標題</title>\n",
    "# <style>\n",
    "# .large {\n",
    "#   color:blue;\n",
    "#   text-align: center;\n",
    "# }\n",
    "# </style>\n",
    "# </head>\n",
    "# <body>\n",
    "# <h1 class=\"large\" style=\"\">我是變色且置中的抬頭</h1>\n",
    "# <p id=\"p1\">我是段落一</p>\n",
    "# <p id=\"p2\" style=\"\">我是段落二</p>\n",
    "# <div><a href=\"http://blog.castman.net\" style=\"font-size:200%;\">我是放大的超連結</a></div>\n",
    "# </body>\n",
    "# </html>"
   ]
  },
  {
   "cell_type": "markdown",
   "metadata": {},
   "source": [
    "接著就可以用 find(), find_all() 搭配 tag 名稱及屬性去定位資料區塊"
   ]
  },
  {
   "cell_type": "code",
   "execution_count": 6,
   "metadata": {},
   "outputs": [
    {
     "data": {
      "text/plain": [
       "<p id=\"p1\">我是段落一</p>"
      ]
     },
     "execution_count": 6,
     "metadata": {},
     "output_type": "execute_result"
    }
   ],
   "source": [
    "soup.find('p')            # 回傳第一個被 <p> </p> 所包圍的區塊\n",
    "# <p id=\"p1\">我是段落一</p>"
   ]
  },
  {
   "cell_type": "code",
   "execution_count": 7,
   "metadata": {},
   "outputs": [
    {
     "data": {
      "text/plain": [
       "<p id=\"p2\" style=\"\">我是段落二</p>"
      ]
     },
     "execution_count": 7,
     "metadata": {},
     "output_type": "execute_result"
    }
   ],
   "source": [
    "soup.find('p', id='p2')   # 回傳第一個被 <p> </p> 所包圍的區塊且 id=\"p2\"\n",
    "# <p id=\"p2\" style=\"\">我是段落二</p>"
   ]
  },
  {
   "cell_type": "code",
   "execution_count": 8,
   "metadata": {},
   "outputs": [
    {
     "data": {
      "text/plain": [
       "<p id=\"p2\" style=\"\">我是段落二</p>"
      ]
     },
     "execution_count": 8,
     "metadata": {},
     "output_type": "execute_result"
    }
   ],
   "source": [
    "soup.find(id='p2')        # 回傳第一個 id=\"p2\" 的區塊\n",
    "# <p id=\"p2\" style=\"\">我是段落二</p>"
   ]
  },
  {
   "cell_type": "code",
   "execution_count": 9,
   "metadata": {},
   "outputs": [
    {
     "data": {
      "text/plain": [
       "[<p id=\"p1\">我是段落一</p>, <p id=\"p2\" style=\"\">我是段落二</p>]"
      ]
     },
     "execution_count": 9,
     "metadata": {},
     "output_type": "execute_result"
    }
   ],
   "source": [
    "soup.find_all('p')        # 回傳所有被 <p> </p> 所包圍的區塊\n",
    "# [<p id=\"p1\">我是段落一</p>, <p id=\"p2\" style=\"\">我是段落二</p>]\n"
   ]
  },
  {
   "cell_type": "code",
   "execution_count": 10,
   "metadata": {},
   "outputs": [
    {
     "data": {
      "text/plain": [
       "<h1 class=\"large\">我是變色且置中的抬頭</h1>"
      ]
     },
     "execution_count": 10,
     "metadata": {},
     "output_type": "execute_result"
    }
   ],
   "source": [
    "soup.find('h1', 'large')  # 找尋第一個 <h1> 區塊且 class=\"large\"\n",
    "# <h1 class=\"large\" style=\"\">我是變色且置中的抬頭</h1>"
   ]
  },
  {
   "cell_type": "markdown",
   "metadata": {},
   "source": [
    "find() 只回傳第一個找到的區塊，而 find_all() 會回傳一個 list, 包含所有符合條件的區塊。傳入的引數第一個通常是 tag 名稱，第二個引數若未指明屬性就代表 class 名稱，也可以直接使用 id 等屬性去定位區塊。定位到區塊後，可以取出其屬性與包含的字串值"
   ]
  },
  {
   "cell_type": "code",
   "execution_count": 11,
   "metadata": {},
   "outputs": [
    {
     "name": "stdout",
     "output_type": "stream",
     "text": [
      "p1 我是段落一\n",
      "p2 我是段落二\n",
      "http://blog.castman.net font-size:200%; 我是放大的超連結\n",
      "['large']\n"
     ]
    }
   ],
   "source": [
    "paragraphs = soup.find_all('p')\n",
    "for p in paragraphs:\n",
    "    print(p['id'], p.text)\n",
    "# p1 我是段落一\n",
    "# p2 我是段落二\n",
    "\n",
    "a = soup.find('a')\n",
    "print(a['href'], a['style'], a.text)\n",
    "# http://blog.castman.net font-size:200%; 我是放大的超連結\n",
    "\n",
    "print(soup.find('h1')['class'])  # 因為 class 可以有多個值，故回傳 list\n",
    "# ['large']"
   ]
  },
  {
   "cell_type": "markdown",
   "metadata": {},
   "source": [
    "如果你要取得的屬性不存在，直接使用屬性名稱會出現錯誤訊息，因此若你不確定屬性是否存在，可以改用 get() 方法"
   ]
  },
  {
   "cell_type": "code",
   "execution_count": 12,
   "metadata": {},
   "outputs": [
    {
     "name": "stdout",
     "output_type": "stream",
     "text": [
      "None\n"
     ]
    }
   ],
   "source": [
    "#print(soup.find(id='p1')['style'])      # 會出現錯誤訊息, 因為 <p id=\"p1\"> 沒有 style 屬性\n",
    "print(soup.find(id='p1').get('style'))  # None"
   ]
  },
  {
   "cell_type": "markdown",
   "metadata": {},
   "source": [
    "使用 Chrome 的開發者工具找到資料區塊的 tag 及屬性\n",
    "假設你有一個想爬的網頁，要怎麼知道資料區塊所在的標籤及屬性呢？在此我們使用 Chrome 的開發者工具，以 Ptt Web 版 Beauty 板首頁為例，用 Chrome 連上 https://www.ptt.cc/bbs/Beauty/index.html , 接著按下 F12 或從選單啟動開發者工具"
   ]
  },
  {
   "cell_type": "markdown",
   "metadata": {},
   "source": [
    "![](img/161222-python-ds-tutorial-3-3.png)\n",
    "下方會跑出開發者工具的操作區，點選左上角的箭頭按鈕後，再點擊網頁上你想要定位的資料區塊，該區塊的 HTML 碼就會顯示在下方。當然你也可以直接檢視網頁原始碼或檢視上一篇教學中用 get_web_page() 所取得的網頁文件，但善用開發者工具可以加速你的搜尋。\n",
    "![](img/161222-python-ds-tutorial-3-4.png)\n",
    "![](img/161222-python-ds-tutorial-3-5.png)"
   ]
  },
  {
   "cell_type": "markdown",
   "metadata": {},
   "source": [
    "PTT Beauty 板範例實戰\n",
    "檢視網頁原始碼後我們知道，網頁上的每一篇貼文都是由 <div class=”r-ent”> 的區塊包圍起來，裡面分別由 <div class=”nrec”> 區塊顯示推文數，<div class=”title”> 區塊及 <a> 區塊顯示文章連結及文章標題，<div class=”date”> 區塊顯示發文日期\n",
    "![](img/161220-python-ds-tutorial-2-2.png)"
   ]
  },
  {
   "cell_type": "markdown",
   "metadata": {},
   "source": [
    "因此，若已經取得網頁文件，我們可以用 find_all() 找出所有<div class=”r-ent”> 區塊，並逐一巡訪，取得資料："
   ]
  },
  {
   "cell_type": "code",
   "execution_count": 13,
   "metadata": {},
   "outputs": [],
   "source": [
    "def get_articles(dom, date):\n",
    "    soup = BeautifulSoup(dom, 'html.parser')\n",
    "\n",
    "    # 取得上一頁的連結\n",
    "    paging_div = soup.find('div', 'btn-group btn-group-paging')\n",
    "    prev_url = paging_div.find_all('a')[1]['href']\n",
    "\n",
    "    articles = []  # 儲存取得的文章資料\n",
    "    divs = soup.find_all('div', 'r-ent')\n",
    "    for d in divs:\n",
    "        if d.find('div', 'date').string.strip() == date:  # 發文日期正確\n",
    "            # 取得推文數\n",
    "            push_count = 0\n",
    "            if d.find('div', 'nrec').string:\n",
    "                try:\n",
    "                    push_count = int(d.find('div', 'nrec').string)  # 轉換字串為數字\n",
    "                except ValueError:  # 若轉換失敗，不做任何事，push_count 保持為 0\n",
    "                    pass\n",
    "\n",
    "            # 取得文章連結及標題\n",
    "            if d.find('a'):  # 有超連結，表示文章存在，未被刪除\n",
    "                href = d.find('a')['href']\n",
    "                title = d.find('a').string\n",
    "                articles.append({\n",
    "                    'title': title,\n",
    "                    'href': href,\n",
    "                    'push_count': push_count\n",
    "                })\n",
    "    return articles, prev_url"
   ]
  },
  {
   "cell_type": "markdown",
   "metadata": {},
   "source": [
    "使用 get_articles() 及上一篇教學的 get_web_page()，取得今日文章資訊"
   ]
  },
  {
   "cell_type": "code",
   "execution_count": 14,
   "metadata": {},
   "outputs": [
    {
     "name": "stdout",
     "output_type": "stream",
     "text": [
      "[]\n",
      "/bbs/Beauty/index2479.html\n"
     ]
    }
   ],
   "source": [
    "page = get_web_page('https://www.ptt.cc/bbs/Beauty/index.html')\n",
    "if page:\n",
    "    mm = time.strftime(\"%m\").lstrip('0')  # 今天日期, 去掉開頭的 '0' 以符合 PTT 網站格式\n",
    "    mm = mm if (len(mm) > 1) else ' ' + mm\n",
    "    dd = time.strftime(\"%d\")  \n",
    "    date = mm + '/' + dd\n",
    "    current_articles = get_articles(page, date)\n",
    "    for post in current_articles:\n",
    "        print(post)"
   ]
  },
  {
   "cell_type": "markdown",
   "metadata": {},
   "source": [
    "https://eastlakeside.gitbooks.io/interpy-zh/content/ternary_operators/ternary_operators.html\n",
    "三元运算符\n",
    "三元运算符通常在Python里被称为条件表达式，这些表达式基于真(true)/假(false)的条件判断，在Python 2.4以上才有了三元操作。\n",
    "下面是一个伪代码和例子：\n",
    "伪代码:\n",
    "\n",
    "#如果条件为真，返回真 否则返回假\n",
    "condition_is_true if condition else condition_is_false\n",
    "例子:\n",
    "\n",
    "is_fat = True\n",
    "state = \"fat\" if is_fat else \"not fat\""
   ]
  },
  {
   "cell_type": "code",
   "execution_count": 15,
   "metadata": {},
   "outputs": [],
   "source": [
    "def parse(dom):\n",
    "    soup = BeautifulSoup(dom, 'html.parser')\n",
    "    links = soup.find(id='main-content').find_all('a')\n",
    "    img_urls = []\n",
    "    for link in links:\n",
    "        if re.match(r'^https?://(i.)?(m.)?imgur.com', link['href']):\n",
    "            img_urls.append(link['href'])\n",
    "    return img_urls"
   ]
  },
  {
   "cell_type": "markdown",
   "metadata": {},
   "source": [
    "透過正規表示式 (Regular Expression) 指定字串的格式。例如能辨識出以上全部格式的正規表示式為:\n",
    "\n",
    "'^https?://(i.)?(m.)?imgur.com'\n",
    "”^” 表示字串開頭，字元緊接著 “?” 表示該字元可出現 0 或 1 次，所以 “^https?” 表示的是 “http” (s 出現 0 次) 或 “https” (s 出現 1 次) 開頭的字串，同理 (i.)? 表示 “i.” 可以出現 0 或 1 次。我們用 re.match() 判斷字串是否符合所定義的正規表示式："
   ]
  },
  {
   "cell_type": "code",
   "execution_count": 16,
   "metadata": {},
   "outputs": [],
   "source": [
    "def save(img_urls, title):\n",
    "    if img_urls:\n",
    "        try:\n",
    "            dname = title.strip()  # 用 strip() 去除字串前後的空白\n",
    "            os.makedirs(dname)\n",
    "            for img_url in img_urls:\n",
    "                if img_url.split('//')[1].startswith('m.'):\n",
    "                    img_url = img_url.replace('//m.', '//i.')\n",
    "                if not img_url.split('//')[1].startswith('i.'):\n",
    "                    img_url = img_url.split('//')[0] + '//i.' + img_url.split('//')[1]\n",
    "                if not img_url.endswith('.jpg'):\n",
    "                    img_url += '.jpg'\n",
    "                fname = img_url.split('/')[-1]\n",
    "                urllib.request.urlretrieve(img_url, os.path.join(dname, fname))\n",
    "        except Exception as e:\n",
    "            print(e)"
   ]
  },
  {
   "cell_type": "markdown",
   "metadata": {},
   "source": [
    "主程式:\n",
    "    1.連線到網站，取得該文章網頁 (get_web_page())\n",
    "    2.找到文章內的圖片網址們 (parse())\n",
    "    3.在本機新增以文章標題為名的資料夾，將圖片存到本機 (save())\n",
    "    4.紀錄圖片數量；繼續巡訪下一篇文章直到沒有文章為止"
   ]
  },
  {
   "cell_type": "code",
   "execution_count": 17,
   "metadata": {},
   "outputs": [],
   "source": [
    "PTT_URL = 'https://www.ptt.cc'"
   ]
  },
  {
   "cell_type": "code",
   "execution_count": 18,
   "metadata": {},
   "outputs": [
    {
     "name": "stdout",
     "output_type": "stream",
     "text": [
      "Processing {'title': '[正妹] 甜美可愛日本人', 'href': '/bbs/Beauty/M.1526056001.A.B71.html', 'push_count': 5}\n"
     ]
    }
   ],
   "source": [
    "if __name__ == '__main__':\n",
    "    current_page = get_web_page(PTT_URL + '/bbs/Beauty/index.html')\n",
    "    if current_page:\n",
    "        articles = []  # 全部的今日文章\n",
    "        date = time.strftime(\"%m/%d\").lstrip('0')  # 今天日期, 去掉開頭的 '0' 以符合 PTT 網站格式\n",
    "        current_articles, prev_url = get_articles(current_page, date)  # 目前頁面的今日文章\n",
    "        while current_articles:  # 若目前頁面有今日文章則加入 articles，並回到上一頁繼續尋找是否有今日文章\n",
    "            articles += current_articles\n",
    "            current_page = get_web_page(PTT_URL + prev_url)\n",
    "            current_articles, prev_url = get_articles(current_page, date)\n",
    "\n",
    "        # 已取得文章列表，開始進入各文章讀圖\n",
    "        for article in articles:\n",
    "            print('Processing', article)\n",
    "            page = get_web_page(PTT_URL + article['href'])\n",
    "            if page:\n",
    "                img_urls = parse(page)\n",
    "                save(img_urls, article['title'])\n",
    "                article['num_image'] = len(img_urls)\n",
    "\n",
    "        # 儲存文章資訊\n",
    "        with open('data.json', 'w', encoding='utf-8') as f:\n",
    "            json.dump(articles, f, indent=2, sort_keys=True, ensure_ascii=False)\n"
   ]
  },
  {
   "cell_type": "code",
   "execution_count": null,
   "metadata": {},
   "outputs": [],
   "source": []
  },
  {
   "cell_type": "code",
   "execution_count": null,
   "metadata": {},
   "outputs": [],
   "source": []
  }
 ],
 "metadata": {
  "kernelspec": {
   "display_name": "Python 3",
   "language": "python",
   "name": "python3"
  },
  "language_info": {
   "codemirror_mode": {
    "name": "ipython",
    "version": 3
   },
   "file_extension": ".py",
   "mimetype": "text/x-python",
   "name": "python",
   "nbconvert_exporter": "python",
   "pygments_lexer": "ipython3",
   "version": "3.6.4"
  }
 },
 "nbformat": 4,
 "nbformat_minor": 2
}
